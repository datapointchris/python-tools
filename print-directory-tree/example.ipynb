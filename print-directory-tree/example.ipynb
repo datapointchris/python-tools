{
 "cells": [
  {
   "cell_type": "code",
   "execution_count": 1,
   "metadata": {},
   "outputs": [],
   "source": [
    "from pathlib import Path\n",
    "from tree import tree"
   ]
  },
  {
   "cell_type": "markdown",
   "metadata": {},
   "source": [
    "### Exclude some folders"
   ]
  },
  {
   "cell_type": "code",
   "execution_count": 2,
   "metadata": {},
   "outputs": [
    {
     "name": "stdout",
     "output_type": "stream",
     "text": [
      "├── tree.py\n",
      "├── example.ipynb\n",
      "├── __pycache__\n",
      "│   └── tree.cpython-310.pyc\n",
      "└── test_tree.py\n"
     ]
    }
   ],
   "source": [
    "for line in tree(Path('.'), exclude_glob=['.venv', '.ipynb_checkpoints']):\n",
    "    print(line)"
   ]
  },
  {
   "cell_type": "markdown",
   "metadata": {},
   "source": [
    "### Exclude folders, include only certain extensions"
   ]
  },
  {
   "cell_type": "code",
   "execution_count": 3,
   "metadata": {},
   "outputs": [
    {
     "name": "stdout",
     "output_type": "stream",
     "text": [
      "└── example.ipynb\n"
     ]
    }
   ],
   "source": [
    "for line in tree(Path('.'), include_glob=['*.ipynb', '*.csv'], exclude_glob=['.venv']):\n",
    "    print(line)"
   ]
  }
 ],
 "metadata": {
  "kernelspec": {
   "display_name": "Python 3.10.6 ('.venv': poetry)",
   "language": "python",
   "name": "python3"
  },
  "language_info": {
   "codemirror_mode": {
    "name": "ipython",
    "version": 3
   },
   "file_extension": ".py",
   "mimetype": "text/x-python",
   "name": "python",
   "nbconvert_exporter": "python",
   "pygments_lexer": "ipython3",
   "version": "3.10.6"
  },
  "orig_nbformat": 4,
  "vscode": {
   "interpreter": {
    "hash": "ba85e3ce1ad5aa878bde0181a7b916022f6377bf6fb97bedfdcbeec2a613c967"
   }
  }
 },
 "nbformat": 4,
 "nbformat_minor": 2
}
