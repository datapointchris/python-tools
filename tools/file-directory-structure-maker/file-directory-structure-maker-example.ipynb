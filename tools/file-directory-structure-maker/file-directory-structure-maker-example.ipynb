{
 "cells": [
  {
   "cell_type": "code",
   "execution_count": 1,
   "metadata": {},
   "outputs": [],
   "source": [
    "from pprint import pprint\n",
    "\n",
    "from structure import Structure\n",
    "\n",
    "# MUST have top level in structure\n",
    "TEST_STRUCTURE = {\n",
    "    \"separator\": \"/\",\n",
    "    \"structure\": {\n",
    "        \"project\": [\"euphoria\"],\n",
    "        \"sections\": {\n",
    "            # \"views\": [\"frontend\", \"backend\", \"model\", \"view\"],\n",
    "            # \"routes\": [\"baseroutes\", \"v2routes\"],\n",
    "            # \"project\": [\"euphoria\"],\n",
    "            \"program\": [\"supervisor\", \"nginx\"],\n",
    "            \"resource\": [\"app\", \"api\"],\n",
    "            \"env\": [\"dev\", \"test\", \"prod\"],\n",
    "            \"sections\": {\"suffix\": [\"run.conf\", \"startup.conf\", \"destroy.conf\"]},\n",
    "        },\n",
    "    },\n",
    "    # },\n",
    "}\n",
    "\n",
    "\n",
    "s = Structure(**TEST_STRUCTURE)\n"
   ]
  },
  {
   "cell_type": "code",
   "execution_count": 2,
   "metadata": {},
   "outputs": [
    {
     "name": "stdout",
     "output_type": "stream",
     "text": [
      "'project/env/resource/program/suffix'\n",
      "\n",
      "└── euphoria\n",
      "    ├── dev\n",
      "    │   ├── api\n",
      "    │   │   ├── supervisor\n",
      "    │   │   │   ├── startup.conf\n",
      "    │   │   │   ├── run.conf\n",
      "    │   │   │   └── destroy.conf\n",
      "    │   │   └── nginx\n",
      "    │   │       ├── startup.conf\n",
      "    │   │       ├── run.conf\n",
      "    │   │       └── destroy.conf\n",
      "    │   └── app\n",
      "    │       ├── supervisor\n",
      "    │       │   ├── startup.conf\n",
      "    │       │   ├── run.conf\n",
      "    │       │   └── destroy.conf\n",
      "    │       └── nginx\n",
      "    │           ├── startup.conf\n",
      "    │           ├── run.conf\n",
      "    │           └── destroy.conf\n",
      "    ├── prod\n",
      "    │   ├── api\n",
      "    │   │   ├── supervisor\n",
      "    │   │   │   ├── startup.conf\n",
      "    │   │   │   ├── run.conf\n",
      "    │   │   │   └── destroy.conf\n",
      "    │   │   └── nginx\n",
      "    │   │       ├── startup.conf\n",
      "    │   │       ├── run.conf\n",
      "    │   │       └── destroy.conf\n",
      "    │   └── app\n",
      "    │       ├── supervisor\n",
      "    │       │   ├── startup.conf\n",
      "    │       │   ├── run.conf\n",
      "    │       │   └── destroy.conf\n",
      "    │       └── nginx\n",
      "    │           ├── startup.conf\n",
      "    │           ├── run.conf\n",
      "    │           └── destroy.conf\n",
      "    └── test\n",
      "        ├── api\n",
      "        │   ├── supervisor\n",
      "        │   │   ├── startup.conf\n",
      "        │   │   ├── run.conf\n",
      "        │   │   └── destroy.conf\n",
      "        │   └── nginx\n",
      "        │       ├── startup.conf\n",
      "        │       ├── run.conf\n",
      "        │       └── destroy.conf\n",
      "        └── app\n",
      "            ├── supervisor\n",
      "            │   ├── startup.conf\n",
      "            │   ├── run.conf\n",
      "            │   └── destroy.conf\n",
      "            └── nginx\n",
      "                ├── startup.conf\n",
      "                ├── run.conf\n",
      "                └── destroy.conf\n"
     ]
    }
   ],
   "source": [
    "s.display_tree_groups('project/env/resource/program/suffix')"
   ]
  },
  {
   "cell_type": "code",
   "execution_count": null,
   "metadata": {},
   "outputs": [],
   "source": []
  }
 ],
 "metadata": {
  "kernelspec": {
   "display_name": "Python 3.10.6 ('.venv': poetry)",
   "language": "python",
   "name": "python3"
  },
  "language_info": {
   "codemirror_mode": {
    "name": "ipython",
    "version": 3
   },
   "file_extension": ".py",
   "mimetype": "text/x-python",
   "name": "python",
   "nbconvert_exporter": "python",
   "pygments_lexer": "ipython3",
   "version": "3.10.7"
  },
  "orig_nbformat": 4,
  "vscode": {
   "interpreter": {
    "hash": "ba85e3ce1ad5aa878bde0181a7b916022f6377bf6fb97bedfdcbeec2a613c967"
   }
  }
 },
 "nbformat": 4,
 "nbformat_minor": 2
}
