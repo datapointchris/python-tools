{
 "cells": [
  {
   "cell_type": "code",
   "execution_count": 5,
   "metadata": {},
   "outputs": [],
   "source": [
    "from pprint import pprint\n",
    "\n",
    "from structure import Structure\n",
    "\n",
    "# MUST have top level in structure\n",
    "TEST_STRUCTURE = {\n",
    "    \"separator\": \"/\",\n",
    "    \"structure\": {\n",
    "        \"homedir\": [\"Code\"],\n",
    "        \"sections\": {\n",
    "            \"languages\": [\"scala\", \"python\", \"java\"],\n",
    "            \"categories\": [\"forked\", \"playground\", \"projects\", \"tools\", \"tutorials\"],\n",
    "            # \"env\": [\"dev\", \"test\", \"prod\"],\n",
    "            # \"sections\": {\n",
    "                # \"projects\": [\"project1\", \"p2\", \"p3\", \"proj4\", \"proj5\", \"proj6\", \"proj7\", \"proj8\"]\n",
    "            # },\n",
    "        },\n",
    "    },\n",
    "    # },\n",
    "}\n",
    "\n",
    "\n",
    "s = Structure(**TEST_STRUCTURE)\n"
   ]
  },
  {
   "cell_type": "code",
   "execution_count": 7,
   "metadata": {},
   "outputs": [],
   "source": [
    "s.create_directories('homedir/languages/categories')"
   ]
  },
  {
   "cell_type": "code",
   "execution_count": null,
   "metadata": {},
   "outputs": [],
   "source": []
  }
 ],
 "metadata": {
  "kernelspec": {
   "display_name": "Python 3.10.6 ('.venv': poetry)",
   "language": "python",
   "name": "python3"
  },
  "language_info": {
   "codemirror_mode": {
    "name": "ipython",
    "version": 3
   },
   "file_extension": ".py",
   "mimetype": "text/x-python",
   "name": "python",
   "nbconvert_exporter": "python",
   "pygments_lexer": "ipython3",
   "version": "3.10.7"
  },
  "orig_nbformat": 4,
  "vscode": {
   "interpreter": {
    "hash": "ba85e3ce1ad5aa878bde0181a7b916022f6377bf6fb97bedfdcbeec2a613c967"
   }
  }
 },
 "nbformat": 4,
 "nbformat_minor": 2
}
