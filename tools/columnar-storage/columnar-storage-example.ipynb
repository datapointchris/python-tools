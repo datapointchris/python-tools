{
 "cells": [
  {
   "cell_type": "code",
   "execution_count": 1,
   "metadata": {},
   "outputs": [],
   "source": [
    "import sys\n",
    "from collections import defaultdict\n",
    "import pandas as pd\n",
    "import re\n",
    "\n",
    "from column_encoder import ColumnEncoder\n",
    "from tools.toolbox import human_readable_size"
   ]
  },
  {
   "cell_type": "markdown",
   "metadata": {},
   "source": [
    "## Functioning\n",
    "\n",
    "Code Mapping\n",
    "- Each new key is mapped in the key mapping to the value it represents\n",
    "- There should be a key mapping for every column\n",
    "\n",
    "Indexing\n",
    "- To create an index, store the index number along with the key map key to lookup the value.\n",
    "\n",
    "Lookups\n",
    "\n",
    "\n",
    "BUILDING:\n",
    "- The initial zero padding of the should be the minimum number of "
   ]
  },
  {
   "cell_type": "code",
   "execution_count": null,
   "metadata": {},
   "outputs": [],
   "source": []
  },
  {
   "cell_type": "code",
   "execution_count": 2,
   "metadata": {},
   "outputs": [
    {
     "name": "stdout",
     "output_type": "stream",
     "text": [
      "16,938\n",
      "('18.29', 'MB')\n"
     ]
    }
   ],
   "source": [
    "# TODO: Load in with csv reader and generator\n",
    "# TODO: make generator for unique and running stats\n",
    "\n",
    "sales = pd.read_csv('data/sales_data_sample.csv', encoding='cp1252')\n",
    "data = sales\n",
    "copies = 5\n",
    "for _ in range(copies):\n",
    "    data = pd.concat([data, sales])\n",
    "print(format(len(data), ','))\n",
    "print(human_readable_size(data))"
   ]
  },
  {
   "cell_type": "code",
   "execution_count": 3,
   "metadata": {},
   "outputs": [
    {
     "data": {
      "text/plain": [
       "[('ORDERNUMBER', 307, 0.0181),\n",
       " ('QUANTITYORDERED', 58, 0.0034),\n",
       " ('PRICEEACH', 1016, 0.06),\n",
       " ('ORDERLINENUMBER', 18, 0.0011),\n",
       " ('SALES', 2763, 0.1631),\n",
       " ('ORDERDATE', 252, 0.0149),\n",
       " ('STATUS', 6, 0.0004),\n",
       " ('QTR_ID', 4, 0.0002),\n",
       " ('MONTH_ID', 12, 0.0007),\n",
       " ('YEAR_ID', 3, 0.0002),\n",
       " ('PRODUCTLINE', 7, 0.0004),\n",
       " ('MSRP', 80, 0.0047),\n",
       " ('PRODUCTCODE', 109, 0.0064),\n",
       " ('CUSTOMERNAME', 92, 0.0054),\n",
       " ('PHONE', 91, 0.0054),\n",
       " ('ADDRESSLINE1', 92, 0.0054),\n",
       " ('ADDRESSLINE2', 10, 0.0006),\n",
       " ('CITY', 73, 0.0043),\n",
       " ('STATE', 17, 0.001),\n",
       " ('POSTALCODE', 74, 0.0044),\n",
       " ('COUNTRY', 19, 0.0011),\n",
       " ('TERRITORY', 4, 0.0002),\n",
       " ('CONTACTLASTNAME', 77, 0.0045),\n",
       " ('CONTACTFIRSTNAME', 72, 0.0043),\n",
       " ('DEALSIZE', 3, 0.0002)]"
      ]
     },
     "execution_count": 3,
     "metadata": {},
     "output_type": "execute_result"
    }
   ],
   "source": [
    "[(col, len(data[col].unique()), round(len(data[col].unique()) / len(data), 4)) for col in data.columns]"
   ]
  },
  {
   "cell_type": "code",
   "execution_count": 4,
   "metadata": {},
   "outputs": [],
   "source": [
    "cities = data['CITY'].to_list()\n",
    "countries = data['COUNTRY'].to_list()\n",
    "# cities"
   ]
  },
  {
   "cell_type": "code",
   "execution_count": 5,
   "metadata": {},
   "outputs": [
    {
     "name": "stdout",
     "output_type": "stream",
     "text": [
      "True\n",
      "0.398\n"
     ]
    }
   ],
   "source": [
    "d = data['CITY'].to_list()\n",
    "ce = ColumnEncoder()\n",
    "encoded = ce.encode(d)\n",
    "decoded = ce.decode(encoded)\n",
    "print(d == decoded)\n",
    "print(ce.storage_reduction(encoded))"
   ]
  },
  {
   "cell_type": "code",
   "execution_count": 6,
   "metadata": {},
   "outputs": [],
   "source": [
    "reductions = []\n",
    "for column in data.columns:\n",
    "    l = data[column].to_list()\n",
    "    ce = ColumnEncoder()\n",
    "    encoded = ce.encode(l)\n",
    "    reductions.append((column, ce.storage_reduction(encoded)))"
   ]
  },
  {
   "cell_type": "code",
   "execution_count": 7,
   "metadata": {},
   "outputs": [
    {
     "data": {
      "text/plain": [
       "[('PRODUCTLINE', 0.9863),\n",
       " ('PRODUCTCODE', 0.9714),\n",
       " ('STATUS', 0.9154),\n",
       " ('MSRP', 0.9076),\n",
       " ('YEAR_ID', 0.8563),\n",
       " ('CUSTOMERNAME', 0.7709),\n",
       " ('ADDRESSLINE2', 0.7595),\n",
       " ('ADDRESSLINE1', 0.7499),\n",
       " ('DEALSIZE', 0.7015),\n",
       " ('ORDERDATE', 0.6032),\n",
       " ('PHONE', 0.589),\n",
       " ('CITY', 0.398),\n",
       " ('TERRITORY', 0.3585),\n",
       " ('CONTACTLASTNAME', 0.2745),\n",
       " ('COUNTRY', 0.258),\n",
       " ('PRICEEACH', 0.2526),\n",
       " ('CONTACTFIRSTNAME', 0.1705),\n",
       " ('POSTALCODE', 0.0803),\n",
       " ('SALES', 0.0124),\n",
       " ('STATE', -0.0643),\n",
       " ('ORDERNUMBER', -0.1276),\n",
       " ('QTR_ID', -0.5338),\n",
       " ('MONTH_ID', -1.3784),\n",
       " ('QUANTITYORDERED', -1.4056),\n",
       " ('ORDERLINENUMBER', -2.1472)]"
      ]
     },
     "execution_count": 7,
     "metadata": {},
     "output_type": "execute_result"
    }
   ],
   "source": [
    "sorted(reductions, key=lambda x: x[1], reverse=True)"
   ]
  },
  {
   "cell_type": "code",
   "execution_count": 8,
   "metadata": {},
   "outputs": [
    {
     "name": "stdout",
     "output_type": "stream",
     "text": [
      "('PRODUCTLINE', 0.9863)\n",
      "('PRODUCTCODE', 0.9714)\n",
      "('STATUS', 0.9154)\n",
      "('MSRP', 0.9076)\n",
      "('YEAR_ID', 0.8563)\n",
      "('CUSTOMERNAME', 0.7709)\n",
      "('ADDRESSLINE2', 0.7595)\n",
      "('ADDRESSLINE1', 0.7499)\n",
      "('DEALSIZE', 0.7015)\n",
      "('ORDERDATE', 0.6032)\n",
      "('PHONE', 0.589)\n",
      "('CITY', 0.398)\n",
      "('TERRITORY', 0.3585)\n",
      "('CONTACTLASTNAME', 0.2745)\n",
      "('COUNTRY', 0.258)\n",
      "('PRICEEACH', 0.2526)\n"
     ]
    }
   ],
   "source": [
    "threshold = 0.25\n",
    "f = filter(lambda x: x[1] > threshold, reductions)\n",
    "s = sorted(f, key=lambda x: x[1], reverse=True)\n",
    "print(*s, sep='\\n')"
   ]
  },
  {
   "cell_type": "code",
   "execution_count": null,
   "metadata": {},
   "outputs": [],
   "source": []
  }
 ],
 "metadata": {
  "kernelspec": {
   "display_name": "Python 3.10.7 ('.venv': poetry)",
   "language": "python",
   "name": "python3"
  },
  "language_info": {
   "codemirror_mode": {
    "name": "ipython",
    "version": 3
   },
   "file_extension": ".py",
   "mimetype": "text/x-python",
   "name": "python",
   "nbconvert_exporter": "python",
   "pygments_lexer": "ipython3",
   "version": "3.10.7"
  },
  "orig_nbformat": 4,
  "vscode": {
   "interpreter": {
    "hash": "ba85e3ce1ad5aa878bde0181a7b916022f6377bf6fb97bedfdcbeec2a613c967"
   }
  }
 },
 "nbformat": 4,
 "nbformat_minor": 2
}
