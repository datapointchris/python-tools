{
 "cells": [
  {
   "cell_type": "code",
   "execution_count": 8,
   "metadata": {},
   "outputs": [],
   "source": [
    "from faker import Faker\n",
    "from binary import str_to_binary_str, binary_encode, binary_decode, test_encoding, analyze_compression, compression_ratio\n",
    "fake = Faker()"
   ]
  },
  {
   "cell_type": "code",
   "execution_count": 9,
   "metadata": {},
   "outputs": [
    {
     "name": "stdout",
     "output_type": "stream",
     "text": [
      "True\n",
      "0.39\n"
     ]
    }
   ],
   "source": [
    "original = '00010101110100010111111111000000110010000'\n",
    "encoded = binary_encode(original)\n",
    "decoded = binary_decode(encoded)\n",
    "print(test_encoding(original, decoded))\n",
    "print(compression_ratio(original, encoded))"
   ]
  },
  {
   "cell_type": "code",
   "execution_count": 10,
   "metadata": {},
   "outputs": [
    {
     "data": {
      "text/plain": [
       "True"
      ]
     },
     "execution_count": 10,
     "metadata": {},
     "output_type": "execute_result"
    }
   ],
   "source": [
    "binary_decode(binary_encode(original)) == original"
   ]
  },
  {
   "cell_type": "code",
   "execution_count": 11,
   "metadata": {},
   "outputs": [
    {
     "name": "stdout",
     "output_type": "stream",
     "text": [
      "True\n",
      "0.25\n"
     ]
    }
   ],
   "source": [
    "test = 'This is a test string. 1234'\n",
    "bin_string = str_to_binary_str(test)\n",
    "bin_encode = binary_encode(bin_string)\n",
    "bin_decode = binary_decode(bin_encode)\n",
    "print(test_encoding(bin_string, bin_decode))\n",
    "print(compression_ratio(bin_string, bin_encode))"
   ]
  },
  {
   "cell_type": "code",
   "execution_count": 12,
   "metadata": {},
   "outputs": [
    {
     "name": "stdout",
     "output_type": "stream",
     "text": [
      "Cold section side. Culture course worker around.\n",
      "\n",
      "Binary\n",
      "1000011110111111011001100100100000111001111001011100011111010011010011101111110111010000011100111101001110010011001011011101000001000011111010111011001110100111010111100101100101100000110001111011111110101111001011100111100101100000111011111011111110010110101111001011110010100000110000111100101101111111010111011101100100101110\n",
      "\n",
      "Encoded\n",
      "1404106102120212012015031204120103130510120210120310610310150312041012031201202120102103101501405101031021203101203101041201021201021502130410710104120103120412010215031051071201021010412010412010150214041201021071010310310212012010310\n",
      "\n",
      "String Length:  48\n",
      "Binary Length:  328\n",
      "Encoded Length:  235\n",
      "Binary to Encoded Compression:  0.28\n"
     ]
    }
   ],
   "source": [
    "analyze_compression(fake.paragraph())"
   ]
  },
  {
   "cell_type": "code",
   "execution_count": 13,
   "metadata": {},
   "outputs": [
    {
     "name": "stdout",
     "output_type": "stream",
     "text": [
      "Average characters saved: 79810\n",
      "Average compression ratio:  0.265\n",
      "Average characters saved: 79885\n",
      "Average compression ratio:  0.2645\n",
      "Average characters saved: 79997\n",
      "Average compression ratio:  0.262\n",
      "Average characters saved: 79999\n",
      "Average compression ratio:  0.264\n",
      "Average characters saved: 79975\n",
      "Average compression ratio:  0.263\n"
     ]
    }
   ],
   "source": [
    "for t in range(5):\n",
    "    results = []\n",
    "    for num_paragraphs in range(1, 1000, 50):\n",
    "        p = ' '.join(fake.paragraphs(num_paragraphs))\n",
    "        bin_string = str_to_binary_str(p)\n",
    "        bin_encode = binary_encode(bin_string)\n",
    "        bin_decode = binary_decode(bin_encode)\n",
    "        len_encode = len(bin_encode)\n",
    "        len_decode = len(bin_decode)\n",
    "        compress = compression_ratio(bin_decode, bin_encode)\n",
    "        results.append((len_decode, len_encode, compress))\n",
    "\n",
    "    print('Average characters saved:', sum(r[0] - r[1] for r in results) // len(results))\n",
    "    print('Average compression ratio: ', round(sum(r[2] for r in results) / len(results), 4))"
   ]
  },
  {
   "cell_type": "code",
   "execution_count": null,
   "metadata": {},
   "outputs": [],
   "source": []
  }
 ],
 "metadata": {
  "kernelspec": {
   "display_name": "Python 3.10.6 ('.venv': poetry)",
   "language": "python",
   "name": "python3"
  },
  "language_info": {
   "codemirror_mode": {
    "name": "ipython",
    "version": 3
   },
   "file_extension": ".py",
   "mimetype": "text/x-python",
   "name": "python",
   "nbconvert_exporter": "python",
   "pygments_lexer": "ipython3",
   "version": "3.10.7"
  },
  "orig_nbformat": 4,
  "vscode": {
   "interpreter": {
    "hash": "ba85e3ce1ad5aa878bde0181a7b916022f6377bf6fb97bedfdcbeec2a613c967"
   }
  }
 },
 "nbformat": 4,
 "nbformat_minor": 2
}
