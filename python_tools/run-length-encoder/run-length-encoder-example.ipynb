{
 "cells": [
  {
   "cell_type": "code",
   "execution_count": 1,
   "metadata": {},
   "outputs": [
    {
     "ename": "SyntaxError",
     "evalue": "expected ':' (rle.py, line 45)",
     "output_type": "error",
     "traceback": [
      "Traceback \u001b[0;36m(most recent call last)\u001b[0m:\n",
      "\u001b[0m  File \u001b[1;32m~/github/tools/.venv/lib/python3.10/site-packages/IPython/core/interactiveshell.py:3378\u001b[0m in \u001b[1;35mrun_code\u001b[0m\n    exec(code_obj, self.user_global_ns, self.user_ns)\u001b[0m\n",
      "\u001b[0;36m  Cell \u001b[0;32mIn [1], line 2\u001b[0;36m\n\u001b[0;31m    from rle import RunLengthEncoder\u001b[0;36m\n",
      "\u001b[0;36m  File \u001b[0;32m~/github/tools/tools/run-length-encoder/rle.py:45\u001b[0;36m\u001b[0m\n\u001b[0;31m    if char == sep and enc\u001b[0m\n\u001b[0m                           ^\u001b[0m\n\u001b[0;31mSyntaxError\u001b[0m\u001b[0;31m:\u001b[0m expected ':'\n"
     ]
    }
   ],
   "source": [
    "import itertools\n",
    "from rle import RunLengthEncoder"
   ]
  },
  {
   "cell_type": "code",
   "execution_count": 2,
   "metadata": {},
   "outputs": [],
   "source": [
    "original_string = '5555|||3333333-----aaaaaaaBBBBBBB-sssssssssssabc123ssssssssssdrsfffmmmmmmmm&&&&&&&&ffffffff'\n",
    "# original_string = 'aaa-abc'"
   ]
  },
  {
   "cell_type": "code",
   "execution_count": 3,
   "metadata": {},
   "outputs": [],
   "source": [
    "tests = {\n",
    "    'one_sep': '111-111',\n",
    "    'multi_sep': '111---111',\n",
    "    'mixed_sep': '111---11-1',\n",
    "    'one_operator': '111|111',\n",
    "    'multi_operator': '111|||111',\n",
    "    'mixed_operator': '111|||11|1'\n",
    "}"
   ]
  },
  {
   "cell_type": "code",
   "execution_count": null,
   "metadata": {},
   "outputs": [],
   "source": [
    "def tester(test_string):\n",
    "    rle = RunLengthEncoder()\n",
    "    e = rle.encode(test_string)\n",
    "    d = rle.decode(e)\n",
    "    print(f'Origin: {test_string}')\n",
    "    print(f'Encode: {e}')\n",
    "    print(f'Decode: {d}')\n",
    "    print(f'CORRECT: {test_string == d}')\n",
    "    print()"
   ]
  },
  {
   "cell_type": "code",
   "execution_count": null,
   "metadata": {},
   "outputs": [],
   "source": [
    "for name, test in tests.items():\n",
    "    print('Test: ', name)\n",
    "    tester(test)"
   ]
  },
  {
   "cell_type": "code",
   "execution_count": null,
   "metadata": {},
   "outputs": [],
   "source": [
    "rle = RunLengthEncoder()"
   ]
  },
  {
   "cell_type": "code",
   "execution_count": null,
   "metadata": {},
   "outputs": [],
   "source": [
    "encoded = rle.encode(original_string)\n",
    "encoded"
   ]
  },
  {
   "cell_type": "code",
   "execution_count": null,
   "metadata": {},
   "outputs": [],
   "source": [
    "decoded = rle.decode(encoded)\n",
    "decoded\n",
    "decoded == original_string"
   ]
  },
  {
   "cell_type": "code",
   "execution_count": null,
   "metadata": {},
   "outputs": [],
   "source": [
    "rle.compression_ratio(original_string, encoded)\n"
   ]
  },
  {
   "cell_type": "code",
   "execution_count": null,
   "metadata": {},
   "outputs": [],
   "source": []
  },
  {
   "cell_type": "code",
   "execution_count": null,
   "metadata": {},
   "outputs": [],
   "source": []
  },
  {
   "cell_type": "code",
   "execution_count": null,
   "metadata": {},
   "outputs": [],
   "source": []
  }
 ],
 "metadata": {
  "kernelspec": {
   "display_name": "Python 3.10.7 ('.venv': poetry)",
   "language": "python",
   "name": "python3"
  },
  "language_info": {
   "codemirror_mode": {
    "name": "ipython",
    "version": 3
   },
   "file_extension": ".py",
   "mimetype": "text/x-python",
   "name": "python",
   "nbconvert_exporter": "python",
   "pygments_lexer": "ipython3",
   "version": "3.10.7"
  },
  "orig_nbformat": 4,
  "vscode": {
   "interpreter": {
    "hash": "ba85e3ce1ad5aa878bde0181a7b916022f6377bf6fb97bedfdcbeec2a613c967"
   }
  }
 },
 "nbformat": 4,
 "nbformat_minor": 2
}
